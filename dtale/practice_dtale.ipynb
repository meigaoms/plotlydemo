{
 "cells": [
  {
   "cell_type": "code",
   "execution_count": 1,
   "metadata": {
    "pycharm": {
     "name": "#%%\n"
    }
   },
   "outputs": [],
   "source": [
    "import pandas as pd\n",
    "import dtale\n",
    "from pycoingecko import CoinGeckoAPI\n",
    "from datetime import datetime \n",
    "from convert_unix_to_datetime import ConvertUnixToDatetime as cnd"
   ]
  },
  {
   "cell_type": "code",
   "execution_count": 2,
   "metadata": {
    "pycharm": {
     "name": "#%%\n"
    }
   },
   "outputs": [
    {
     "data": {
      "text/html": [
       "\n",
       "        <iframe\n",
       "            width=\"100%\"\n",
       "            height=\"475\"\n",
       "            src=\"http://MNLAKES4444.northamerica.corp.microsoft.com:40000/dtale/iframe/1\"\n",
       "            frameborder=\"0\"\n",
       "            allowfullscreen\n",
       "        ></iframe>\n",
       "        "
      ],
      "text/plain": [
       "<IPython.lib.display.IFrame at 0x120605410>"
      ]
     },
     "metadata": {},
     "output_type": "display_data"
    },
    {
     "data": {
      "text/plain": []
     },
     "execution_count": 2,
     "metadata": {},
     "output_type": "execute_result"
    }
   ],
   "source": [
    "df = pd.DataFrame([dict(a=1, b=2), dict(a=2, b=3), dict(a=3, b=4)]).set_index('a')\n",
    "dtale.show(df, ignore_duplicate=True)"
   ]
  },
  {
   "cell_type": "code",
   "execution_count": 3,
   "metadata": {
    "pycharm": {
     "name": "#%%\n"
    }
   },
   "outputs": [
    {
     "ename": "AttributeError",
     "evalue": "'CoinGeckoAPI' object has no attribute 'get_coin_market_chart_range_by_id'",
     "output_type": "error",
     "traceback": [
      "\u001b[0;31m---------------------------------------------------------------------------\u001b[0m",
      "\u001b[0;31mAttributeError\u001b[0m                            Traceback (most recent call last)",
      "\u001b[0;32m<ipython-input-3-69b04fe758df>\u001b[0m in \u001b[0;36m<module>\u001b[0;34m\u001b[0m\n\u001b[1;32m     23\u001b[0m     \u001b[0;32mreturn\u001b[0m \u001b[0mdf2\u001b[0m\u001b[0;34m\u001b[0m\u001b[0;34m\u001b[0m\u001b[0m\n\u001b[1;32m     24\u001b[0m \u001b[0;34m\u001b[0m\u001b[0m\n\u001b[0;32m---> 25\u001b[0;31m \u001b[0mbitcoin\u001b[0m \u001b[0;34m=\u001b[0m \u001b[0mrun_coin_market_chart_range\u001b[0m\u001b[0;34m(\u001b[0m\u001b[0;34m)\u001b[0m\u001b[0;34m\u001b[0m\u001b[0;34m\u001b[0m\u001b[0m\n\u001b[0m\u001b[1;32m     26\u001b[0m \u001b[0;34m\u001b[0m\u001b[0m\n\u001b[1;32m     27\u001b[0m \u001b[0methereum\u001b[0m \u001b[0;34m=\u001b[0m \u001b[0mrun_coin_market_chart_range\u001b[0m\u001b[0;34m(\u001b[0m\u001b[0mid\u001b[0m\u001b[0;34m=\u001b[0m\u001b[0;34m'ethereum'\u001b[0m\u001b[0;34m)\u001b[0m\u001b[0;34m\u001b[0m\u001b[0;34m\u001b[0m\u001b[0m\n",
      "\u001b[0;32m<ipython-input-3-69b04fe758df>\u001b[0m in \u001b[0;36mrun_coin_market_chart_range\u001b[0;34m(id, vs_currency, to_timestamp, from_timestamp)\u001b[0m\n\u001b[1;32m      1\u001b[0m \u001b[0mcg\u001b[0m \u001b[0;34m=\u001b[0m \u001b[0mCoinGeckoAPI\u001b[0m\u001b[0;34m(\u001b[0m\u001b[0;34m)\u001b[0m\u001b[0;34m\u001b[0m\u001b[0;34m\u001b[0m\u001b[0m\n\u001b[1;32m      2\u001b[0m \u001b[0;32mdef\u001b[0m \u001b[0mrun_coin_market_chart_range\u001b[0m\u001b[0;34m(\u001b[0m\u001b[0mid\u001b[0m\u001b[0;34m=\u001b[0m\u001b[0;34m'bitcoin'\u001b[0m\u001b[0;34m,\u001b[0m \u001b[0mvs_currency\u001b[0m\u001b[0;34m=\u001b[0m\u001b[0;34m'usd'\u001b[0m\u001b[0;34m,\u001b[0m \u001b[0mto_timestamp\u001b[0m\u001b[0;34m=\u001b[0m\u001b[0;34m'1582156800'\u001b[0m\u001b[0;34m,\u001b[0m \u001b[0mfrom_timestamp\u001b[0m\u001b[0;34m=\u001b[0m\u001b[0;34m'1539129600'\u001b[0m\u001b[0;34m)\u001b[0m\u001b[0;34m:\u001b[0m\u001b[0;34m\u001b[0m\u001b[0;34m\u001b[0m\u001b[0m\n\u001b[0;32m----> 3\u001b[0;31m     \u001b[0mprices\u001b[0m \u001b[0;34m=\u001b[0m \u001b[0mcg\u001b[0m\u001b[0;34m.\u001b[0m\u001b[0mget_coin_market_chart_range_by_id\u001b[0m\u001b[0;34m(\u001b[0m\u001b[0mid\u001b[0m\u001b[0;34m=\u001b[0m\u001b[0mid\u001b[0m\u001b[0;34m,\u001b[0m \u001b[0mvs_currency\u001b[0m\u001b[0;34m=\u001b[0m\u001b[0mvs_currency\u001b[0m\u001b[0;34m,\u001b[0m \u001b[0mto_timestamp\u001b[0m\u001b[0;34m=\u001b[0m\u001b[0mto_timestamp\u001b[0m\u001b[0;34m,\u001b[0m \u001b[0mfrom_timestamp\u001b[0m\u001b[0;34m=\u001b[0m\u001b[0mfrom_timestamp\u001b[0m\u001b[0;34m)\u001b[0m\u001b[0;34m\u001b[0m\u001b[0;34m\u001b[0m\u001b[0m\n\u001b[0m\u001b[1;32m      4\u001b[0m \u001b[0;34m\u001b[0m\u001b[0m\n\u001b[1;32m      5\u001b[0m     \u001b[0mdf\u001b[0m \u001b[0;34m=\u001b[0m \u001b[0mpd\u001b[0m\u001b[0;34m.\u001b[0m\u001b[0mDataFrame\u001b[0m\u001b[0;34m(\u001b[0m\u001b[0mprices\u001b[0m\u001b[0;34m)\u001b[0m\u001b[0;34m\u001b[0m\u001b[0;34m\u001b[0m\u001b[0m\n",
      "\u001b[0;31mAttributeError\u001b[0m: 'CoinGeckoAPI' object has no attribute 'get_coin_market_chart_range_by_id'"
     ]
    }
   ],
   "source": [
    "cg = CoinGeckoAPI()\n",
    "def run_coin_market_chart_range(id='bitcoin', vs_currency='usd', to_timestamp='1582156800', from_timestamp='1539129600'):\n",
    "    prices = cg.get_coin_market_chart_range_by_id(id=id, vs_currency=vs_currency, to_timestamp=to_timestamp, from_timestamp=from_timestamp)\n",
    "    \n",
    "    df = pd.DataFrame(prices)\n",
    "    df2 = pd.DataFrame(df['prices'].values.tolist(), columns=['time', f'{id}_price'])\n",
    "\n",
    "    df2['time'] = df2['time'].apply(lambda x: cnd(x).convert_unix())\n",
    "    \n",
    "    df2 = df2.set_index('time')\n",
    "    \n",
    "    market_cap = []\n",
    "    for item, row in df[f'market_caps']:\n",
    "        market_cap.append(row)\n",
    "    \n",
    "    total_volume = []\n",
    "    for item, row in df[f'total_volumes']:\n",
    "        total_volume.append(row)\n",
    "    \n",
    "    df2[f'{id}_market_cap'] = market_cap\n",
    "    df2[f'{id}_total_volume'] = total_volume\n",
    "    \n",
    "    return df2\n",
    "\n",
    "bitcoin = run_coin_market_chart_range()\n",
    "\n",
    "ethereum = run_coin_market_chart_range(id='ethereum')\n",
    "\n",
    "allcoins = bitcoin.join(ethereum, how='outer')"
   ]
  },
  {
   "cell_type": "code",
   "execution_count": null,
   "metadata": {
    "pycharm": {
     "name": "#%%\n"
    }
   },
   "outputs": [],
   "source": [
    "dtale.show(allcoins)"
   ]
  }
 ],
 "metadata": {
  "kernelspec": {
   "display_name": "Python 3",
   "language": "python",
   "name": "python3"
  },
  "language_info": {
   "codemirror_mode": {
    "name": "ipython",
    "version": 3
   },
   "file_extension": ".py",
   "mimetype": "text/x-python",
   "name": "python",
   "nbconvert_exporter": "python",
   "pygments_lexer": "ipython3",
   "version": "3.7.7"
  },
  "pycharm": {
   "stem_cell": {
    "cell_type": "raw",
    "metadata": {
     "collapsed": false
    },
    "source": []
   }
  }
 },
 "nbformat": 4,
 "nbformat_minor": 1
}
